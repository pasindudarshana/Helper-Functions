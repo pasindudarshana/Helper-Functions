{
  "nbformat": 4,
  "nbformat_minor": 0,
  "metadata": {
    "colab": {
      "provenance": [],
      "authorship_tag": "ABX9TyO229HN6OVKWY3YlI79+19K",
      "include_colab_link": true
    },
    "kernelspec": {
      "name": "python3",
      "display_name": "Python 3"
    },
    "language_info": {
      "name": "python"
    }
  },
  "cells": [
    {
      "cell_type": "markdown",
      "metadata": {
        "id": "view-in-github",
        "colab_type": "text"
      },
      "source": [
        "<a href=\"https://colab.research.google.com/github/pasindudarshana/Helper-Functions/blob/main/File%20Count%20in%20a%20Google%20Drive%20Folder/File_Count_in_a_Google_Drive_Folder.ipynb\" target=\"_parent\"><img src=\"https://colab.research.google.com/assets/colab-badge.svg\" alt=\"Open In Colab\"/></a>"
      ]
    },
    {
      "cell_type": "markdown",
      "source": [
        "###1. OS Module for File and Path Handling"
      ],
      "metadata": {
        "id": "ROgDe6WxQJ5j"
      }
    },
    {
      "cell_type": "code",
      "source": [
        "import os"
      ],
      "metadata": {
        "id": "Yvs9ssZOJ-k-"
      },
      "execution_count": null,
      "outputs": []
    },
    {
      "cell_type": "markdown",
      "source": [
        "###2. Mounting Your Google Drive"
      ],
      "metadata": {
        "id": "C1Mtag7TQftN"
      }
    },
    {
      "cell_type": "code",
      "source": [
        "from google.colab import drive\n",
        "drive.mount('/content/drive')"
      ],
      "metadata": {
        "colab": {
          "base_uri": "https://localhost:8080/"
        },
        "id": "_YYl45LzJ8TO",
        "outputId": "c9cbed68-5322-48ed-a31d-d0fe10749686"
      },
      "execution_count": null,
      "outputs": [
        {
          "output_type": "stream",
          "name": "stdout",
          "text": [
            "Drive already mounted at /content/drive; to attempt to forcibly remount, call drive.mount(\"/content/drive\", force_remount=True).\n"
          ]
        }
      ]
    },
    {
      "cell_type": "markdown",
      "source": [
        "###3. Function for taking file count"
      ],
      "metadata": {
        "id": "aV8K_HsZQpav"
      }
    },
    {
      "cell_type": "code",
      "execution_count": null,
      "metadata": {
        "id": "th5wqpvnJyE5"
      },
      "outputs": [],
      "source": [
        "#Function for taking the number of files in a folder\n",
        "def count_number_of_images(image_folder, extensions):\n",
        "    num_files = 0\n",
        "    try:\n",
        "        return sum(1 for filename in os.listdir(image_folder)\n",
        "                  if filename.lower().endswith(extensions))\n",
        "    except FileNotFoundError:\n",
        "        print(f\"Error: Folder '{image_folder}' not found.\")\n",
        "        return 0\n",
        "    except Exception as e:\n",
        "        print(f\"An error occurred: {e}\")\n",
        "        return 0"
      ]
    },
    {
      "cell_type": "markdown",
      "source": [
        "###4. Set the file path and specify the types of files you want to count"
      ],
      "metadata": {
        "id": "us0DahAtQ6FB"
      }
    },
    {
      "cell_type": "code",
      "source": [
        "# After mounting the drive, navigate to the required folder and copy its path and enter it here\n",
        "path_of_the_folder = '/path/to/required/file'  # Replace with your folder path\n",
        "\n",
        "# Add the types of files you have to count\n",
        "extensions= ('.png', '.jpg', '.jpeg')"
      ],
      "metadata": {
        "id": "6uYG5xZvO967"
      },
      "execution_count": null,
      "outputs": []
    },
    {
      "cell_type": "markdown",
      "source": [
        "###5. Execute the Code"
      ],
      "metadata": {
        "id": "ONkrG1jhRMuF"
      }
    },
    {
      "cell_type": "code",
      "source": [
        "# Run the Function\n",
        "no_of_files = count_number_of_images(path_of_the_folder, extensions)\n",
        "print(no_of_files)"
      ],
      "metadata": {
        "colab": {
          "base_uri": "https://localhost:8080/"
        },
        "id": "DQQpJkJQNlso",
        "outputId": "3d58b428-4141-4cf1-887b-66e33c00377a"
      },
      "execution_count": null,
      "outputs": [
        {
          "output_type": "stream",
          "name": "stdout",
          "text": [
            "1524\n"
          ]
        }
      ]
    }
  ]
}